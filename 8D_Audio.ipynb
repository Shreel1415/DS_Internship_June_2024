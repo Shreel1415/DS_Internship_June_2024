{
  "nbformat": 4,
  "nbformat_minor": 0,
  "metadata": {
    "colab": {
      "provenance": [],
      "authorship_tag": "ABX9TyOs/Mx+xDXRx9rZ0WIPzaGN",
      "include_colab_link": true
    },
    "kernelspec": {
      "name": "python3",
      "display_name": "Python 3"
    },
    "language_info": {
      "name": "python"
    }
  },
  "cells": [
    {
      "cell_type": "markdown",
      "metadata": {
        "id": "view-in-github",
        "colab_type": "text"
      },
      "source": [
        "<a href=\"https://colab.research.google.com/github/Shreel1415/DS_Internship_June_2024/blob/main/8D_Audio.ipynb\" target=\"_parent\"><img src=\"https://colab.research.google.com/assets/colab-badge.svg\" alt=\"Open In Colab\"/></a>"
      ]
    },
    {
      "cell_type": "code",
      "source": [
        "import numpy as np\n",
        "from pydub import AudioSegment\n",
        "import librosa"
      ],
      "metadata": {
        "id": "VP1MEHShg2nw"
      },
      "execution_count": null,
      "outputs": []
    },
    {
      "cell_type": "markdown",
      "source": [
        "#Load MP3 **audio**"
      ],
      "metadata": {
        "id": "AYEnyS4niLpM"
      }
    },
    {
      "cell_type": "code",
      "source": [
        "audio = AudioSegment.from_file(\"1.mp3\", format=\"mp3\")\n",
        "audio = audio.set_channels(2)"
      ],
      "metadata": {
        "id": "fsJeo8OOhHot"
      },
      "execution_count": null,
      "outputs": []
    },
    {
      "cell_type": "markdown",
      "source": [
        "\n",
        "#Convert to numpy for manupulation"
      ],
      "metadata": {
        "id": "2vCBEaRJiZCI"
      }
    },
    {
      "cell_type": "code",
      "source": [
        "samples = np.array(audio.get_array_of_samples())\n",
        "samples = samples.reshape((-1, 2))"
      ],
      "metadata": {
        "id": "yqvt8pfSh8dU"
      },
      "execution_count": null,
      "outputs": []
    },
    {
      "cell_type": "markdown",
      "source": [
        "#Function to calculate Loudness"
      ],
      "metadata": {
        "id": "hd__zB5Fjmzu"
      }
    },
    {
      "cell_type": "code",
      "source": [
        "def calculate_loudness(y, sr):\n",
        "    return librosa.feature.rms(y=y, frame_length=2048, hop_length=512, center = True)"
      ],
      "metadata": {
        "id": "5e69LIZljl55"
      },
      "execution_count": null,
      "outputs": []
    },
    {
      "cell_type": "markdown",
      "source": [
        "# AI-enhanced panning effect\n"
      ],
      "metadata": {
        "id": "BGvvGW2quzi1"
      }
    },
    {
      "cell_type": "code",
      "source": [
        "def apply_dynamic_8d_audio(samples, sr, pan_speed = 0.01):\n",
        "    length = samples.shape[0]\n",
        "    mono_samples = samples.mean(axis = 1) #convert to mono audio for analysis"
      ],
      "metadata": {
        "id": "ovBZmNvJuyZg"
      },
      "execution_count": null,
      "outputs": []
    }
  ]
}