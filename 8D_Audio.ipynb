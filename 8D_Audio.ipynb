{
  "nbformat": 4,
  "nbformat_minor": 0,
  "metadata": {
    "colab": {
      "provenance": [],
      "authorship_tag": "ABX9TyM5PCA5GXgMHTKyaL/VSLBJ",
      "include_colab_link": true
    },
    "kernelspec": {
      "name": "python3",
      "display_name": "Python 3"
    },
    "language_info": {
      "name": "python"
    }
  },
  "cells": [
    {
      "cell_type": "markdown",
      "metadata": {
        "id": "view-in-github",
        "colab_type": "text"
      },
      "source": [
        "<a href=\"https://colab.research.google.com/github/Shreel1415/DS_Internship_June_2024/blob/main/8D_Audio.ipynb\" target=\"_parent\"><img src=\"https://colab.research.google.com/assets/colab-badge.svg\" alt=\"Open In Colab\"/></a>"
      ]
    },
    {
      "cell_type": "code",
      "source": [
        "import numpy as np\n",
        "from pydub import AudioSegment\n",
        "import librosa"
      ],
      "metadata": {
        "id": "VP1MEHShg2nw"
      },
      "execution_count": null,
      "outputs": []
    },
    {
      "cell_type": "markdown",
      "source": [
        "#Load MP3 **audio**"
      ],
      "metadata": {
        "id": "AYEnyS4niLpM"
      }
    },
    {
      "cell_type": "code",
      "source": [
        "audio = AudioSegment.from_file(\"1.mp3\", format=\"mp3\")\n",
        "audio = audio.set_channels(2)"
      ],
      "metadata": {
        "id": "fsJeo8OOhHot"
      },
      "execution_count": null,
      "outputs": []
    },
    {
      "cell_type": "markdown",
      "source": [
        "\n",
        "#Convert to numpy for manupulation"
      ],
      "metadata": {
        "id": "2vCBEaRJiZCI"
      }
    },
    {
      "cell_type": "code",
      "source": [
        "samples = np.array(audio.get_array_of_samples())\n",
        "samples = samples.reshape((-1, 2))"
      ],
      "metadata": {
        "id": "yqvt8pfSh8dU"
      },
      "execution_count": null,
      "outputs": []
    },
    {
      "cell_type": "markdown",
      "source": [
        "#Function to calculate Loudness"
      ],
      "metadata": {
        "id": "hd__zB5Fjmzu"
      }
    },
    {
      "cell_type": "code",
      "source": [
        "def calculate_loudness(y, sr):\n",
        "    return librosa.feature.rms(y=y, frame_length=2048, hop_length=512, center = True)"
      ],
      "metadata": {
        "id": "5e69LIZljl55"
      },
      "execution_count": null,
      "outputs": []
    },
    {
      "cell_type": "markdown",
      "source": [
        "# AI-enhanced panning effect\n"
      ],
      "metadata": {
        "id": "BGvvGW2quzi1"
      }
    },
    {
      "cell_type": "code",
      "source": [
        "def apply_dynamic_8d_audio(samples, sr, pan_speed = 0.1):\n",
        "    length = samples.shape[0]\n",
        "    mono_samples = samples.mean(axis = 1) #convert to mono audio for analysis\n",
        "    y = mono_samples.astype(np.float32)\n",
        "    loudness = calculate_loudness(y, sr) #calculate Loudness\n",
        "\n",
        "    for i in range(length):\n",
        "      pan = np.sin(2 * np.pi * i * pan_speed) # Dynamic adjustment according to loudness\n",
        "      adjustment_factor = 1 + loudness[0, i // 512] #AI based panning speed\n",
        "      pan_adjusted = np.clip(pan * adjustment_factor, -1, 1)\n",
        "      samples[i, 0] = int(samples[i, 0] * (1 + pan_adjusted) / 2) #Left\n",
        "      samples[i, 1] = int(samples[i, 1] * (1 - pan_adjusted) / 2) #Right\n",
        "      return samples"
      ],
      "metadata": {
        "id": "ovBZmNvJuyZg"
      },
      "execution_count": 18,
      "outputs": []
    },
    {
      "cell_type": "markdown",
      "source": [
        "# AI-Enhanced 8D Audio"
      ],
      "metadata": {
        "id": "Vk9rfIcp5WZv"
      }
    },
    {
      "cell_type": "code",
      "source": [
        "sr = audio.frame_rate\n",
        "samples = apply_dynamic_8d_audio(samples, sr)"
      ],
      "metadata": {
        "id": "Z1xE8Tyb3Y6n"
      },
      "execution_count": 19,
      "outputs": []
    },
    {
      "cell_type": "markdown",
      "source": [
        "# Convert Back to audio segment"
      ],
      "metadata": {
        "id": "SjFSxpvv5tWq"
      }
    },
    {
      "cell_type": "code",
      "source": [
        "audio_8d = AudioSegment(samples.tobytes(), frame_rate=audio.frame_rate, sample_width=audio.sample_width, channels=2)"
      ],
      "metadata": {
        "id": "f2MI1Aqp5seW"
      },
      "execution_count": 20,
      "outputs": []
    },
    {
      "cell_type": "markdown",
      "source": [
        "# Saving to new file"
      ],
      "metadata": {
        "id": "ltGm3b236dRU"
      }
    },
    {
      "cell_type": "code",
      "source": [
        "audio_8d.export(\"8d.mp3\", format=\"mp3\")"
      ],
      "metadata": {
        "colab": {
          "base_uri": "https://localhost:8080/"
        },
        "id": "djO2sDFH6atf",
        "outputId": "2347d3eb-45b5-41e7-8e31-37c0e404ac8b"
      },
      "execution_count": 22,
      "outputs": [
        {
          "output_type": "execute_result",
          "data": {
            "text/plain": [
              "<_io.BufferedRandom name='8d.mp3'>"
            ]
          },
          "metadata": {},
          "execution_count": 22
        }
      ]
    },
    {
      "cell_type": "code",
      "source": [],
      "metadata": {
        "id": "4N4CGpvY7Zcq"
      },
      "execution_count": null,
      "outputs": []
    }
  ]
}